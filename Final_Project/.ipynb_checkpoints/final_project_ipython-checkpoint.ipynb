{
 "cells": [
  {
   "cell_type": "markdown",
   "metadata": {},
   "source": [
    "# Intro to Data Science - Final Project"
   ]
  },
  {
   "cell_type": "markdown",
   "metadata": {},
   "source": [
    "## Introduction"
   ]
  },
  {
   "cell_type": "markdown",
   "metadata": {},
   "source": [
    "### Set up Data and Packages\n"
   ]
  },
  {
   "cell_type": "markdown",
   "metadata": {},
   "source": [
    "First we import the necessary packages."
   ]
  },
  {
   "cell_type": "code",
   "execution_count": 18,
   "metadata": {
    "collapsed": true
   },
   "outputs": [],
   "source": [
    "%matplotlib inline \n",
    "import numpy as np\n",
    "import scipy.stats\n",
    "import pandas\n",
    "import matplotlib.pyplot as plt"
   ]
  },
  {
   "cell_type": "markdown",
   "metadata": {},
   "source": [
    "We then read the turnstile data and have a look at the first few entries."
   ]
  },
  {
   "cell_type": "code",
   "execution_count": 33,
   "metadata": {
    "collapsed": false
   },
   "outputs": [
    {
     "name": "stdout",
     "output_type": "stream",
     "text": [
      "   Unnamed: 0  UNIT       DATEn     TIMEn  Hour    DESCn  ENTRIESn_hourly  \\\n",
      "0           0  R001  2011-05-01  01:00:00     1  REGULAR                0   \n",
      "\n",
      "   EXITSn_hourly  maxpressurei  maxdewpti   ...     meandewpti  meanpressurei  \\\n",
      "0              0         30.31         42   ...             39          30.27   \n",
      "\n",
      "   fog  rain  meanwindspdi  mintempi  meantempi  maxtempi  precipi  thunder  \n",
      "0    0     0             5        50         60        69        0        0  \n",
      "\n",
      "[1 rows x 22 columns]\n"
     ]
    }
   ],
   "source": [
    "turnstileData = pandas.read_csv(\"turnstile_data_master_with_weather.csv\")\n",
    "print turnstileData.head(1)"
   ]
  },
  {
   "cell_type": "markdown",
   "metadata": {},
   "source": [
    "## Section 1. Statistical Test"
   ]
  },
  {
   "cell_type": "markdown",
   "metadata": {},
   "source": [
    "We are interested into whether there is any significant difference on the number of entries (EntriesN) between rainy and non rainy days. The statistical test used to analyze the NYC subway data is the Mann Whitney U test. The Mann Whitney U test is appropriate in our case, as it is a non-parametric test that does not require the underlying population to be normal (see histogram below).\n"
   ]
  },
  {
   "cell_type": "code",
   "execution_count": 21,
   "metadata": {
    "collapsed": false,
    "scrolled": true
   },
   "outputs": [
    {
     "data": {
      "text/plain": [
       "<matplotlib.text.Text at 0x20138630>"
      ]
     },
     "execution_count": 21,
     "metadata": {},
     "output_type": "execute_result"
    },
    {
     "data": {
      "image/png": "[encoded data removed]",
      "text/plain": [
       "<matplotlib.figure.Figure at 0x1f0a7208>"
      ]
     },
     "metadata": {},
     "output_type": "display_data"
    }
   ],
   "source": [
    "plt.figure()\n",
    "# plot a historgram for hourly entries when it is not raining\n",
    "turnstileData[turnstileData[\"rain\"] == 0][\"ENTRIESn_hourly\"].hist(bins = 150, alpha = 0.8, label = \"No Rain\")\n",
    "# plot a historgram for hourly entries when it is raining\n",
    "turnstileData[turnstileData[\"rain\"] == 1][\"ENTRIESn_hourly\"].hist(bins = 150, alpha = 0.8, label = \"Rain\")\n",
    "plt.legend()\n",
    "plt.title(\"Histogram of ENTRIESn_hourly\")\n",
    "plt.xlabel(\"ENTRIESn_hourly\")\n",
    "plt.ylabel(\"Frequency\")"
   ]
  },
  {
   "cell_type": "markdown",
   "metadata": {},
   "source": [
    "We will take the mean for each group (rain vs no rain) and run the Mann Whitney U-test on the ENTRIESn_hourly column in the turnstileData dataframe. The null hypothesis is that the mean of ENTRIESn_hourly is greater for rainy days (one sided test)."
   ]
  },
  {
   "cell_type": "code",
   "execution_count": 34,
   "metadata": {
    "collapsed": false
   },
   "outputs": [
    {
     "name": "stdout",
     "output_type": "stream",
     "text": [
      "Mean of Rain Group: 1105.44637675\n",
      "Mean of No Rain Group: 1090.27878015\n",
      "U, p = 1924409167.0, 0.0193096344138\n"
     ]
    }
   ],
   "source": [
    "with_rain_mean = np.mean(turnstileData[turnstileData[\"rain\"] == 1][\"ENTRIESn_hourly\"])\n",
    "without_rain_mean = np.mean(turnstileData[turnstileData[\"rain\"] == 0][\"ENTRIESn_hourly\"])\n",
    "\n",
    "U, p = scipy.stats.mannwhitneyu(turnstileData[turnstileData[\"rain\"] == 1][\"ENTRIESn_hourly\"], \n",
    "                                turnstileData[turnstileData[\"rain\"] == 0][\"ENTRIESn_hourly\"])\n",
    "\n",
    "print 'Mean of Rain Group: ' + str(with_rain_mean)\n",
    "print 'Mean of No Rain Group: ' + str(without_rain_mean)\n",
    "print 'U, p = ' + str(U) +', ' + str(p)\n"
   ]
  },
  {
   "cell_type": "markdown",
   "metadata": {},
   "source": [
    "With a p-value of approximately 0.02 (and a significance threshold of 0.05 - p-critical) we can reject the null hypothesis."
   ]
  },
  {
   "cell_type": "markdown",
   "metadata": {},
   "source": [
    "## Section 2. Linear Regression"
   ]
  },
  {
   "cell_type": "markdown",
   "metadata": {},
   "source": [
    "In this section we will attempt to create a linear regression model to help us predict the daily entries to stations, i.e. our dependent variable is ENTRIESn_hourly."
   ]
  },
  {
   "cell_type": "code",
   "execution_count": null,
   "metadata": {
    "collapsed": true
   },
   "outputs": [],
   "source": []
  }
 ],
 "metadata": {
  "kernelspec": {
   "display_name": "Python 2",
   "language": "python",
   "name": "python2"
  },
  "language_info": {
   "codemirror_mode": {
    "name": "ipython",
    "version": 2
   },
   "file_extension": ".py",
   "mimetype": "text/x-python",
   "name": "python",
   "nbconvert_exporter": "python",
   "pygments_lexer": "ipython2",
   "version": "2.7.11"
  }
 },
 "nbformat": 4,
 "nbformat_minor": 0
}
